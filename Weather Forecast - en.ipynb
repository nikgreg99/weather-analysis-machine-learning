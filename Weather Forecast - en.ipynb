{
 "cells": [
  {
   "cell_type": "markdown",
   "metadata": {},
   "source": [
    "# Semester Project - Machine Learning\n",
    "Project made by Nicolas Gregori SUPSI - 2021"
   ]
  },
  {
   "cell_type": "markdown",
   "metadata": {},
   "source": [
    "## Dataset description\n",
    "The current dataset contains parameters about weather in Szeged, a city located in Hungary, between 2006 and 2016. It contains the following columns: \n",
    "- **Formatted Date**\n",
    "- **Summary**  (weather forecast by hour)\n",
    "- **Precip Type**\n",
    "- **Temperature** (in Celsius Degrees)\n",
    "- **Apparent Temperature** (in Celsius Degrees) - It is the apparent temperature perceived by humans\n",
    "- **Humidity**\n",
    "- **Wind Speed** (in km/h)\n",
    "- **Wind Bearing** (degrees)\n",
    "- **Visibility** (km)\n",
    "- **Loud Cover**\n",
    "- **Pressure** (in millibars)\n",
    "- **Daily Summer** (weather forecast by day)\n",
    "\n",
    "All the data contained into the dataset were taken every hour.\n",
    "Also, there are some columns which summarize how was the weather at a precise hour.\n",
    "\n",
    "Available at: [*Weather in Szeged*](https://www.kaggle.com/budincsevity/szeged-weather/discussion)."
   ]
  },
  {
   "cell_type": "markdown",
   "metadata": {},
   "source": [
    "## Preliminar operations"
   ]
  },
  {
   "cell_type": "markdown",
   "metadata": {},
   "source": [
    "Making sure not losing the job done"
   ]
  },
  {
   "cell_type": "code",
   "execution_count": 23,
   "metadata": {
    "scrolled": true
   },
   "outputs": [
    {
     "data": {
      "application/javascript": [
       "IPython.notebook.set_autosave_interval(25000)"
      ]
     },
     "metadata": {},
     "output_type": "display_data"
    },
    {
     "name": "stdout",
     "output_type": "stream",
     "text": [
      "Autosaving every 25 seconds\n"
     ]
    }
   ],
   "source": [
    "%autosave 25"
   ]
  },
  {
   "cell_type": "markdown",
   "metadata": {},
   "source": [
    "Load the cell below to import all dependencies needed to run the notebook"
   ]
  },
  {
   "cell_type": "code",
   "execution_count": 24,
   "metadata": {},
   "outputs": [],
   "source": [
    "#Various imports\n",
    "import numpy as np\n",
    "import pandas as pd\n",
    "\n",
    "from sklearn.linear_model import LinearRegression\n",
    "from sklearn.linear_model import Ridge\n",
    "from sklearn.linear_model import Lasso\n",
    "from sklearn.linear_model import ElasticNet\n",
    "\n",
    "from sklearn.neighbors import KNeighborsClassifier\n",
    "\n",
    "from sklearn.svm import SVC\n",
    "\n",
    "from sklearn.model_selection import GridSearchCV\n",
    "from sklearn.model_selection import train_test_split\n",
    "\n",
    "from sklearn.metrics import mean_squared_error\n",
    "from sklearn.metrics import confusion_matrix\n",
    "from sklearn.metrics import classification_report\n",
    "from sklearn.metrics import roc_curve\n",
    "from sklearn.metrics import auc\n",
    "\n",
    "from sklearn.preprocessing import StandardScaler\n",
    "from sklearn.preprocessing import LabelEncoder\n",
    "from sklearn.preprocessing import OneHotEncoder\n",
    "\n",
    "import matplotlib.pyplot as plt\n",
    "import seaborn as sns\n",
    "%matplotlib inline"
   ]
  },
  {
   "cell_type": "code",
   "execution_count": 25,
   "metadata": {},
   "outputs": [],
   "source": [
    "#Defining portion for test pahse\n",
    "testPortion = 0.4"
   ]
  },
  {
   "cell_type": "markdown",
   "metadata": {},
   "source": [
    "First step: we have to import the dataset into the notebook and save it into a Dataframe. Then, we show the first rows just to get a first view of it."
   ]
  },
  {
   "cell_type": "code",
   "execution_count": 36,
   "metadata": {},
   "outputs": [],
   "source": [
    "#Load the dataset from memory \n",
    "dfPath = \"./resources/weatherHistory.csv\"\n",
    "resPath = \"./results/\"\n",
    "df = pd.read_csv(dfPath)"
   ]
  },
  {
   "cell_type": "code",
   "execution_count": 37,
   "metadata": {},
   "outputs": [
    {
     "data": {
      "text/html": [
       "<div>\n",
       "<style scoped>\n",
       "    .dataframe tbody tr th:only-of-type {\n",
       "        vertical-align: middle;\n",
       "    }\n",
       "\n",
       "    .dataframe tbody tr th {\n",
       "        vertical-align: top;\n",
       "    }\n",
       "\n",
       "    .dataframe thead th {\n",
       "        text-align: right;\n",
       "    }\n",
       "</style>\n",
       "<table border=\"1\" class=\"dataframe\">\n",
       "  <thead>\n",
       "    <tr style=\"text-align: right;\">\n",
       "      <th></th>\n",
       "      <th>Formatted Date</th>\n",
       "      <th>Summary</th>\n",
       "      <th>Precip Type</th>\n",
       "      <th>Temperature (C)</th>\n",
       "      <th>Apparent Temperature (C)</th>\n",
       "      <th>Humidity</th>\n",
       "      <th>Wind Speed (km/h)</th>\n",
       "      <th>Wind Bearing (degrees)</th>\n",
       "      <th>Visibility (km)</th>\n",
       "      <th>Loud Cover</th>\n",
       "      <th>Pressure (millibars)</th>\n",
       "      <th>Daily Summary</th>\n",
       "    </tr>\n",
       "  </thead>\n",
       "  <tbody>\n",
       "    <tr>\n",
       "      <th>0</th>\n",
       "      <td>2006-04-01 00:00:00.000 +0200</td>\n",
       "      <td>Partly Cloudy</td>\n",
       "      <td>rain</td>\n",
       "      <td>9.472222</td>\n",
       "      <td>7.388889</td>\n",
       "      <td>0.89</td>\n",
       "      <td>14.1197</td>\n",
       "      <td>251.0</td>\n",
       "      <td>15.8263</td>\n",
       "      <td>0.0</td>\n",
       "      <td>1015.13</td>\n",
       "      <td>Partly cloudy throughout the day.</td>\n",
       "    </tr>\n",
       "    <tr>\n",
       "      <th>1</th>\n",
       "      <td>2006-04-01 01:00:00.000 +0200</td>\n",
       "      <td>Partly Cloudy</td>\n",
       "      <td>rain</td>\n",
       "      <td>9.355556</td>\n",
       "      <td>7.227778</td>\n",
       "      <td>0.86</td>\n",
       "      <td>14.2646</td>\n",
       "      <td>259.0</td>\n",
       "      <td>15.8263</td>\n",
       "      <td>0.0</td>\n",
       "      <td>1015.63</td>\n",
       "      <td>Partly cloudy throughout the day.</td>\n",
       "    </tr>\n",
       "    <tr>\n",
       "      <th>2</th>\n",
       "      <td>2006-04-01 02:00:00.000 +0200</td>\n",
       "      <td>Mostly Cloudy</td>\n",
       "      <td>rain</td>\n",
       "      <td>9.377778</td>\n",
       "      <td>9.377778</td>\n",
       "      <td>0.89</td>\n",
       "      <td>3.9284</td>\n",
       "      <td>204.0</td>\n",
       "      <td>14.9569</td>\n",
       "      <td>0.0</td>\n",
       "      <td>1015.94</td>\n",
       "      <td>Partly cloudy throughout the day.</td>\n",
       "    </tr>\n",
       "    <tr>\n",
       "      <th>3</th>\n",
       "      <td>2006-04-01 03:00:00.000 +0200</td>\n",
       "      <td>Partly Cloudy</td>\n",
       "      <td>rain</td>\n",
       "      <td>8.288889</td>\n",
       "      <td>5.944444</td>\n",
       "      <td>0.83</td>\n",
       "      <td>14.1036</td>\n",
       "      <td>269.0</td>\n",
       "      <td>15.8263</td>\n",
       "      <td>0.0</td>\n",
       "      <td>1016.41</td>\n",
       "      <td>Partly cloudy throughout the day.</td>\n",
       "    </tr>\n",
       "    <tr>\n",
       "      <th>4</th>\n",
       "      <td>2006-04-01 04:00:00.000 +0200</td>\n",
       "      <td>Mostly Cloudy</td>\n",
       "      <td>rain</td>\n",
       "      <td>8.755556</td>\n",
       "      <td>6.977778</td>\n",
       "      <td>0.83</td>\n",
       "      <td>11.0446</td>\n",
       "      <td>259.0</td>\n",
       "      <td>15.8263</td>\n",
       "      <td>0.0</td>\n",
       "      <td>1016.51</td>\n",
       "      <td>Partly cloudy throughout the day.</td>\n",
       "    </tr>\n",
       "  </tbody>\n",
       "</table>\n",
       "</div>"
      ],
      "text/plain": [
       "                  Formatted Date        Summary Precip Type  Temperature (C)  \\\n",
       "0  2006-04-01 00:00:00.000 +0200  Partly Cloudy        rain         9.472222   \n",
       "1  2006-04-01 01:00:00.000 +0200  Partly Cloudy        rain         9.355556   \n",
       "2  2006-04-01 02:00:00.000 +0200  Mostly Cloudy        rain         9.377778   \n",
       "3  2006-04-01 03:00:00.000 +0200  Partly Cloudy        rain         8.288889   \n",
       "4  2006-04-01 04:00:00.000 +0200  Mostly Cloudy        rain         8.755556   \n",
       "\n",
       "   Apparent Temperature (C)  Humidity  Wind Speed (km/h)  \\\n",
       "0                  7.388889      0.89            14.1197   \n",
       "1                  7.227778      0.86            14.2646   \n",
       "2                  9.377778      0.89             3.9284   \n",
       "3                  5.944444      0.83            14.1036   \n",
       "4                  6.977778      0.83            11.0446   \n",
       "\n",
       "   Wind Bearing (degrees)  Visibility (km)  Loud Cover  Pressure (millibars)  \\\n",
       "0                   251.0          15.8263         0.0               1015.13   \n",
       "1                   259.0          15.8263         0.0               1015.63   \n",
       "2                   204.0          14.9569         0.0               1015.94   \n",
       "3                   269.0          15.8263         0.0               1016.41   \n",
       "4                   259.0          15.8263         0.0               1016.51   \n",
       "\n",
       "                       Daily Summary  \n",
       "0  Partly cloudy throughout the day.  \n",
       "1  Partly cloudy throughout the day.  \n",
       "2  Partly cloudy throughout the day.  \n",
       "3  Partly cloudy throughout the day.  \n",
       "4  Partly cloudy throughout the day.  "
      ]
     },
     "execution_count": 37,
     "metadata": {},
     "output_type": "execute_result"
    }
   ],
   "source": [
    "#Print dataset's head      \n",
    "df.head()"
   ]
  },
  {
   "cell_type": "code",
   "execution_count": 38,
   "metadata": {
    "scrolled": true
   },
   "outputs": [
    {
     "name": "stdout",
     "output_type": "stream",
     "text": [
      "<class 'pandas.core.frame.DataFrame'>\n",
      "RangeIndex: 96453 entries, 0 to 96452\n",
      "Data columns (total 12 columns):\n",
      " #   Column                    Non-Null Count  Dtype  \n",
      "---  ------                    --------------  -----  \n",
      " 0   Formatted Date            96453 non-null  object \n",
      " 1   Summary                   96453 non-null  object \n",
      " 2   Precip Type               95936 non-null  object \n",
      " 3   Temperature (C)           96453 non-null  float64\n",
      " 4   Apparent Temperature (C)  96453 non-null  float64\n",
      " 5   Humidity                  96453 non-null  float64\n",
      " 6   Wind Speed (km/h)         96453 non-null  float64\n",
      " 7   Wind Bearing (degrees)    96453 non-null  float64\n",
      " 8   Visibility (km)           96453 non-null  float64\n",
      " 9   Loud Cover                96453 non-null  float64\n",
      " 10  Pressure (millibars)      96453 non-null  float64\n",
      " 11  Daily Summary             96453 non-null  object \n",
      "dtypes: float64(8), object(4)\n",
      "memory usage: 8.8+ MB\n"
     ]
    }
   ],
   "source": [
    "#Printing features' information\n",
    "df.info()"
   ]
  },
  {
   "cell_type": "code",
   "execution_count": 39,
   "metadata": {},
   "outputs": [
    {
     "data": {
      "text/plain": [
       "(96453, 12)"
      ]
     },
     "execution_count": 39,
     "metadata": {},
     "output_type": "execute_result"
    }
   ],
   "source": [
    "#Getting rows and columns' number\n",
    "df.shape"
   ]
  },
  {
   "cell_type": "code",
   "execution_count": 40,
   "metadata": {
    "scrolled": false
   },
   "outputs": [
    {
     "data": {
      "text/html": [
       "<div>\n",
       "<style scoped>\n",
       "    .dataframe tbody tr th:only-of-type {\n",
       "        vertical-align: middle;\n",
       "    }\n",
       "\n",
       "    .dataframe tbody tr th {\n",
       "        vertical-align: top;\n",
       "    }\n",
       "\n",
       "    .dataframe thead th {\n",
       "        text-align: right;\n",
       "    }\n",
       "</style>\n",
       "<table border=\"1\" class=\"dataframe\">\n",
       "  <thead>\n",
       "    <tr style=\"text-align: right;\">\n",
       "      <th></th>\n",
       "      <th>Temperature (C)</th>\n",
       "      <th>Apparent Temperature (C)</th>\n",
       "      <th>Humidity</th>\n",
       "      <th>Wind Speed (km/h)</th>\n",
       "      <th>Wind Bearing (degrees)</th>\n",
       "      <th>Visibility (km)</th>\n",
       "      <th>Loud Cover</th>\n",
       "      <th>Pressure (millibars)</th>\n",
       "    </tr>\n",
       "  </thead>\n",
       "  <tbody>\n",
       "    <tr>\n",
       "      <th>count</th>\n",
       "      <td>96453.000000</td>\n",
       "      <td>96453.000000</td>\n",
       "      <td>96453.000000</td>\n",
       "      <td>96453.000000</td>\n",
       "      <td>96453.000000</td>\n",
       "      <td>96453.000000</td>\n",
       "      <td>96453.0</td>\n",
       "      <td>96453.000000</td>\n",
       "    </tr>\n",
       "    <tr>\n",
       "      <th>mean</th>\n",
       "      <td>11.932678</td>\n",
       "      <td>10.855029</td>\n",
       "      <td>0.734899</td>\n",
       "      <td>10.810640</td>\n",
       "      <td>187.509232</td>\n",
       "      <td>10.347325</td>\n",
       "      <td>0.0</td>\n",
       "      <td>1003.235956</td>\n",
       "    </tr>\n",
       "    <tr>\n",
       "      <th>std</th>\n",
       "      <td>9.551546</td>\n",
       "      <td>10.696847</td>\n",
       "      <td>0.195473</td>\n",
       "      <td>6.913571</td>\n",
       "      <td>107.383428</td>\n",
       "      <td>4.192123</td>\n",
       "      <td>0.0</td>\n",
       "      <td>116.969906</td>\n",
       "    </tr>\n",
       "    <tr>\n",
       "      <th>min</th>\n",
       "      <td>-21.822222</td>\n",
       "      <td>-27.716667</td>\n",
       "      <td>0.000000</td>\n",
       "      <td>0.000000</td>\n",
       "      <td>0.000000</td>\n",
       "      <td>0.000000</td>\n",
       "      <td>0.0</td>\n",
       "      <td>0.000000</td>\n",
       "    </tr>\n",
       "    <tr>\n",
       "      <th>25%</th>\n",
       "      <td>4.688889</td>\n",
       "      <td>2.311111</td>\n",
       "      <td>0.600000</td>\n",
       "      <td>5.828200</td>\n",
       "      <td>116.000000</td>\n",
       "      <td>8.339800</td>\n",
       "      <td>0.0</td>\n",
       "      <td>1011.900000</td>\n",
       "    </tr>\n",
       "    <tr>\n",
       "      <th>50%</th>\n",
       "      <td>12.000000</td>\n",
       "      <td>12.000000</td>\n",
       "      <td>0.780000</td>\n",
       "      <td>9.965900</td>\n",
       "      <td>180.000000</td>\n",
       "      <td>10.046400</td>\n",
       "      <td>0.0</td>\n",
       "      <td>1016.450000</td>\n",
       "    </tr>\n",
       "    <tr>\n",
       "      <th>75%</th>\n",
       "      <td>18.838889</td>\n",
       "      <td>18.838889</td>\n",
       "      <td>0.890000</td>\n",
       "      <td>14.135800</td>\n",
       "      <td>290.000000</td>\n",
       "      <td>14.812000</td>\n",
       "      <td>0.0</td>\n",
       "      <td>1021.090000</td>\n",
       "    </tr>\n",
       "    <tr>\n",
       "      <th>max</th>\n",
       "      <td>39.905556</td>\n",
       "      <td>39.344444</td>\n",
       "      <td>1.000000</td>\n",
       "      <td>63.852600</td>\n",
       "      <td>359.000000</td>\n",
       "      <td>16.100000</td>\n",
       "      <td>0.0</td>\n",
       "      <td>1046.380000</td>\n",
       "    </tr>\n",
       "  </tbody>\n",
       "</table>\n",
       "</div>"
      ],
      "text/plain": [
       "       Temperature (C)  Apparent Temperature (C)      Humidity  \\\n",
       "count     96453.000000              96453.000000  96453.000000   \n",
       "mean         11.932678                 10.855029      0.734899   \n",
       "std           9.551546                 10.696847      0.195473   \n",
       "min         -21.822222                -27.716667      0.000000   \n",
       "25%           4.688889                  2.311111      0.600000   \n",
       "50%          12.000000                 12.000000      0.780000   \n",
       "75%          18.838889                 18.838889      0.890000   \n",
       "max          39.905556                 39.344444      1.000000   \n",
       "\n",
       "       Wind Speed (km/h)  Wind Bearing (degrees)  Visibility (km)  Loud Cover  \\\n",
       "count       96453.000000            96453.000000     96453.000000     96453.0   \n",
       "mean           10.810640              187.509232        10.347325         0.0   \n",
       "std             6.913571              107.383428         4.192123         0.0   \n",
       "min             0.000000                0.000000         0.000000         0.0   \n",
       "25%             5.828200              116.000000         8.339800         0.0   \n",
       "50%             9.965900              180.000000        10.046400         0.0   \n",
       "75%            14.135800              290.000000        14.812000         0.0   \n",
       "max            63.852600              359.000000        16.100000         0.0   \n",
       "\n",
       "       Pressure (millibars)  \n",
       "count          96453.000000  \n",
       "mean            1003.235956  \n",
       "std              116.969906  \n",
       "min                0.000000  \n",
       "25%             1011.900000  \n",
       "50%             1016.450000  \n",
       "75%             1021.090000  \n",
       "max             1046.380000  "
      ]
     },
     "execution_count": 40,
     "metadata": {},
     "output_type": "execute_result"
    }
   ],
   "source": [
    "#Printing some feature's information\n",
    "df.describe()"
   ]
  },
  {
   "cell_type": "markdown",
   "metadata": {},
   "source": [
    "## Prepocessing phase"
   ]
  },
  {
   "cell_type": "markdown",
   "metadata": {},
   "source": [
    "Before starting doing some analyses, it is important to prepare the dataset during the preprocessing phase. For example, we can delete irrlevant columns (more details below) and transform discrete features into a more adaptable format:"
   ]
  },
  {
   "cell_type": "markdown",
   "metadata": {},
   "source": [
    "There are some columns which are particulary useless. For instance, **Loud Cover** data are full of 0's and that makes this column so irrelevant. The same principle is valid for the string(**Daily Summary** and **Summary**) that tells how it's the weather every hour. \\"
   ]
  },
  {
   "cell_type": "code",
   "execution_count": 41,
   "metadata": {},
   "outputs": [
    {
     "ename": "AttributeError",
     "evalue": "'DataFrame' object has no attribute 'column'",
     "output_type": "error",
     "traceback": [
      "\u001b[1;31m---------------------------------------------------------------------------\u001b[0m",
      "\u001b[1;31mAttributeError\u001b[0m                            Traceback (most recent call last)",
      "\u001b[1;32m<ipython-input-41-0626272c09e8>\u001b[0m in \u001b[0;36m<module>\u001b[1;34m\u001b[0m\n\u001b[0;32m      6\u001b[0m                             \u001b[1;34m\"Wind Bearing (degrees)\"\u001b[0m\u001b[1;33m:\u001b[0m\u001b[1;34m\"Wind Bearing\"\u001b[0m\u001b[1;33m,\u001b[0m\u001b[1;33m\u001b[0m\u001b[1;33m\u001b[0m\u001b[0m\n\u001b[0;32m      7\u001b[0m                             \"Pressure (millibars)\":\"Pressure\"})\n\u001b[1;32m----> 8\u001b[1;33m \u001b[0mdf\u001b[0m\u001b[1;33m.\u001b[0m\u001b[0mcolumn\u001b[0m\u001b[1;33m\u001b[0m\u001b[1;33m\u001b[0m\u001b[0m\n\u001b[0m",
      "\u001b[1;32m~\\anaconda3\\envs\\Data Science\\lib\\site-packages\\pandas\\core\\generic.py\u001b[0m in \u001b[0;36m__getattr__\u001b[1;34m(self, name)\u001b[0m\n\u001b[0;32m   5128\u001b[0m             \u001b[1;32mif\u001b[0m \u001b[0mself\u001b[0m\u001b[1;33m.\u001b[0m\u001b[0m_info_axis\u001b[0m\u001b[1;33m.\u001b[0m\u001b[0m_can_hold_identifiers_and_holds_name\u001b[0m\u001b[1;33m(\u001b[0m\u001b[0mname\u001b[0m\u001b[1;33m)\u001b[0m\u001b[1;33m:\u001b[0m\u001b[1;33m\u001b[0m\u001b[1;33m\u001b[0m\u001b[0m\n\u001b[0;32m   5129\u001b[0m                 \u001b[1;32mreturn\u001b[0m \u001b[0mself\u001b[0m\u001b[1;33m[\u001b[0m\u001b[0mname\u001b[0m\u001b[1;33m]\u001b[0m\u001b[1;33m\u001b[0m\u001b[1;33m\u001b[0m\u001b[0m\n\u001b[1;32m-> 5130\u001b[1;33m             \u001b[1;32mreturn\u001b[0m \u001b[0mobject\u001b[0m\u001b[1;33m.\u001b[0m\u001b[0m__getattribute__\u001b[0m\u001b[1;33m(\u001b[0m\u001b[0mself\u001b[0m\u001b[1;33m,\u001b[0m \u001b[0mname\u001b[0m\u001b[1;33m)\u001b[0m\u001b[1;33m\u001b[0m\u001b[1;33m\u001b[0m\u001b[0m\n\u001b[0m\u001b[0;32m   5131\u001b[0m \u001b[1;33m\u001b[0m\u001b[0m\n\u001b[0;32m   5132\u001b[0m     \u001b[1;32mdef\u001b[0m \u001b[0m__setattr__\u001b[0m\u001b[1;33m(\u001b[0m\u001b[0mself\u001b[0m\u001b[1;33m,\u001b[0m \u001b[0mname\u001b[0m\u001b[1;33m:\u001b[0m \u001b[0mstr\u001b[0m\u001b[1;33m,\u001b[0m \u001b[0mvalue\u001b[0m\u001b[1;33m)\u001b[0m \u001b[1;33m->\u001b[0m \u001b[1;32mNone\u001b[0m\u001b[1;33m:\u001b[0m\u001b[1;33m\u001b[0m\u001b[1;33m\u001b[0m\u001b[0m\n",
      "\u001b[1;31mAttributeError\u001b[0m: 'DataFrame' object has no attribute 'column'"
     ]
    }
   ],
   "source": [
    "df = df.drop(['Daily Summary', 'Summary', 'Loud Cover'], axis = 1)\n",
    "df = df.rename(columns = {\"Temperature (C)\":\"Temperature\",\n",
    "                          \"Wind Speed (km/h)\":\"Wind Speed\",\n",
    "                           \"Apparent Temperature (C)\":\"Apparent Temperature\",\n",
    "                            \"Visibility (km)\":\"Visibility\",\n",
    "                            \"Wind Bearing (degrees)\":\"Wind Bearing\",\n",
    "                            \"Pressure (millibars)\":\"Pressure\"})\n"
   ]
  },
  {
   "cell_type": "code",
   "execution_count": 42,
   "metadata": {},
   "outputs": [
    {
     "data": {
      "text/plain": [
       "Index(['Formatted Date', 'Precip Type', 'Temperature', 'Apparent Temperature',\n",
       "       'Humidity', 'Wind Speed', 'Wind Bearing', 'Visibility', 'Pressure'],\n",
       "      dtype='object')"
      ]
     },
     "execution_count": 42,
     "metadata": {},
     "output_type": "execute_result"
    }
   ],
   "source": [
    "df.columns"
   ]
  },
  {
   "cell_type": "markdown",
   "metadata": {},
   "source": [
    "Now, we are going to take a quick look about data distribution and how features are correlated with each other. Seeing the table below we can start thinking what kinds of analyses could be interesting to make."
   ]
  },
  {
   "cell_type": "code",
   "execution_count": 10,
   "metadata": {},
   "outputs": [
    {
     "data": {
      "image/png": "[encoded data removed]",
      "text/plain": [
       "<Figure size 720x1800 with 9 Axes>"
      ]
     },
     "metadata": {
      "needs_background": "light"
     },
     "output_type": "display_data"
    }
   ],
   "source": [
    "#Print data distribution\n",
    "df.hist(bins = 50, figsize = (10,25))\n",
    "plt.show()"
   ]
  },
  {
   "cell_type": "code",
   "execution_count": 11,
   "metadata": {
    "scrolled": true
   },
   "outputs": [
    {
     "data": {
      "text/html": [
       "<div>\n",
       "<style scoped>\n",
       "    .dataframe tbody tr th:only-of-type {\n",
       "        vertical-align: middle;\n",
       "    }\n",
       "\n",
       "    .dataframe tbody tr th {\n",
       "        vertical-align: top;\n",
       "    }\n",
       "\n",
       "    .dataframe thead th {\n",
       "        text-align: right;\n",
       "    }\n",
       "</style>\n",
       "<table border=\"1\" class=\"dataframe\">\n",
       "  <thead>\n",
       "    <tr style=\"text-align: right;\">\n",
       "      <th></th>\n",
       "      <th>Temperature</th>\n",
       "      <th>Apparent Temperature</th>\n",
       "      <th>Humidity</th>\n",
       "      <th>Wind Speed</th>\n",
       "      <th>Wind Bearing</th>\n",
       "      <th>Visibility</th>\n",
       "      <th>Pressure</th>\n",
       "    </tr>\n",
       "  </thead>\n",
       "  <tbody>\n",
       "    <tr>\n",
       "      <th>Temperature</th>\n",
       "      <td>1.000000</td>\n",
       "      <td>0.992629</td>\n",
       "      <td>-0.632255</td>\n",
       "      <td>0.008957</td>\n",
       "      <td>0.029988</td>\n",
       "      <td>0.392847</td>\n",
       "      <td>-0.005447</td>\n",
       "    </tr>\n",
       "    <tr>\n",
       "      <th>Apparent Temperature</th>\n",
       "      <td>0.992629</td>\n",
       "      <td>1.000000</td>\n",
       "      <td>-0.602571</td>\n",
       "      <td>-0.056650</td>\n",
       "      <td>0.029031</td>\n",
       "      <td>0.381718</td>\n",
       "      <td>-0.000219</td>\n",
       "    </tr>\n",
       "    <tr>\n",
       "      <th>Humidity</th>\n",
       "      <td>-0.632255</td>\n",
       "      <td>-0.602571</td>\n",
       "      <td>1.000000</td>\n",
       "      <td>-0.224951</td>\n",
       "      <td>0.000735</td>\n",
       "      <td>-0.369173</td>\n",
       "      <td>0.005454</td>\n",
       "    </tr>\n",
       "    <tr>\n",
       "      <th>Wind Speed</th>\n",
       "      <td>0.008957</td>\n",
       "      <td>-0.056650</td>\n",
       "      <td>-0.224951</td>\n",
       "      <td>1.000000</td>\n",
       "      <td>0.103822</td>\n",
       "      <td>0.100749</td>\n",
       "      <td>-0.049263</td>\n",
       "    </tr>\n",
       "    <tr>\n",
       "      <th>Wind Bearing</th>\n",
       "      <td>0.029988</td>\n",
       "      <td>0.029031</td>\n",
       "      <td>0.000735</td>\n",
       "      <td>0.103822</td>\n",
       "      <td>1.000000</td>\n",
       "      <td>0.047594</td>\n",
       "      <td>-0.011651</td>\n",
       "    </tr>\n",
       "    <tr>\n",
       "      <th>Visibility</th>\n",
       "      <td>0.392847</td>\n",
       "      <td>0.381718</td>\n",
       "      <td>-0.369173</td>\n",
       "      <td>0.100749</td>\n",
       "      <td>0.047594</td>\n",
       "      <td>1.000000</td>\n",
       "      <td>0.059818</td>\n",
       "    </tr>\n",
       "    <tr>\n",
       "      <th>Pressure</th>\n",
       "      <td>-0.005447</td>\n",
       "      <td>-0.000219</td>\n",
       "      <td>0.005454</td>\n",
       "      <td>-0.049263</td>\n",
       "      <td>-0.011651</td>\n",
       "      <td>0.059818</td>\n",
       "      <td>1.000000</td>\n",
       "    </tr>\n",
       "  </tbody>\n",
       "</table>\n",
       "</div>"
      ],
      "text/plain": [
       "                      Temperature  Apparent Temperature  Humidity  Wind Speed  \\\n",
       "Temperature              1.000000              0.992629 -0.632255    0.008957   \n",
       "Apparent Temperature     0.992629              1.000000 -0.602571   -0.056650   \n",
       "Humidity                -0.632255             -0.602571  1.000000   -0.224951   \n",
       "Wind Speed               0.008957             -0.056650 -0.224951    1.000000   \n",
       "Wind Bearing             0.029988              0.029031  0.000735    0.103822   \n",
       "Visibility               0.392847              0.381718 -0.369173    0.100749   \n",
       "Pressure                -0.005447             -0.000219  0.005454   -0.049263   \n",
       "\n",
       "                      Wind Bearing  Visibility  Pressure  \n",
       "Temperature               0.029988    0.392847 -0.005447  \n",
       "Apparent Temperature      0.029031    0.381718 -0.000219  \n",
       "Humidity                  0.000735   -0.369173  0.005454  \n",
       "Wind Speed                0.103822    0.100749 -0.049263  \n",
       "Wind Bearing              1.000000    0.047594 -0.011651  \n",
       "Visibility                0.047594    1.000000  0.059818  \n",
       "Pressure                 -0.011651    0.059818  1.000000  "
      ]
     },
     "execution_count": 11,
     "metadata": {},
     "output_type": "execute_result"
    }
   ],
   "source": [
    "df.corr()"
   ]
  },
  {
   "cell_type": "markdown",
   "metadata": {},
   "source": [
    "In order to avoid to have **nan**, we convert this values in column **Precip Type** into other"
   ]
  },
  {
   "cell_type": "code",
   "execution_count": 45,
   "metadata": {},
   "outputs": [
    {
     "data": {
      "text/plain": [
       "{'other', 'rain', 'snow'}"
      ]
     },
     "execution_count": 45,
     "metadata": {},
     "output_type": "execute_result"
    }
   ],
   "source": [
    "df = df.replace(np.nan, 'other', regex=True)\n",
    "set(df[\"Precip Type\"].values)"
   ]
  },
  {
   "cell_type": "markdown",
   "metadata": {},
   "source": [
    "For further utility we print the box plot of the precitapion types taken hourly"
   ]
  },
  {
   "cell_type": "code",
   "execution_count": 46,
   "metadata": {},
   "outputs": [
    {
     "data": {
      "image/png": "[encoded data removed]",
      "text/plain": [
       "<Figure size 432x288 with 1 Axes>"
      ]
     },
     "metadata": {
      "needs_background": "light"
     },
     "output_type": "display_data"
    }
   ],
   "source": [
    "sns.boxplot(x =  df[\"Humidity\"],y = df[\"Precip Type\"])\n",
    "plt.title(\"PrecipatioN Type Box Plot\")\n",
    "plt.show()"
   ]
  },
  {
   "cell_type": "code",
   "execution_count": 47,
   "metadata": {},
   "outputs": [],
   "source": [
    "#Optional: parse the date into a proper format and extract the respective Year,Month,Day and HouR\n",
    "df['Formatted Date'] = pd.to_datetime(df['Formatted Date'], format='%Y-%m-%d %H:%M:%S.%f %z') \n",
    "df['Year'] = df['Formatted Date'].apply(lambda x: x.year)\n",
    "df['Month'] = df['Formatted Date'].apply(lambda x: x.month)\n",
    "df['Day'] = df['Formatted Date'].apply(lambda x: x.day)\n",
    "df['Hour'] = df['Formatted Date'].apply(lambda x: x.hour)"
   ]
  },
  {
   "cell_type": "code",
   "execution_count": 48,
   "metadata": {},
   "outputs": [
    {
     "data": {
      "text/html": [
       "<div>\n",
       "<style scoped>\n",
       "    .dataframe tbody tr th:only-of-type {\n",
       "        vertical-align: middle;\n",
       "    }\n",
       "\n",
       "    .dataframe tbody tr th {\n",
       "        vertical-align: top;\n",
       "    }\n",
       "\n",
       "    .dataframe thead th {\n",
       "        text-align: right;\n",
       "    }\n",
       "</style>\n",
       "<table border=\"1\" class=\"dataframe\">\n",
       "  <thead>\n",
       "    <tr style=\"text-align: right;\">\n",
       "      <th></th>\n",
       "      <th>Formatted Date</th>\n",
       "      <th>Precip Type</th>\n",
       "      <th>Temperature</th>\n",
       "      <th>Apparent Temperature</th>\n",
       "      <th>Humidity</th>\n",
       "      <th>Wind Speed</th>\n",
       "      <th>Wind Bearing</th>\n",
       "      <th>Visibility</th>\n",
       "      <th>Pressure</th>\n",
       "      <th>Year</th>\n",
       "      <th>Month</th>\n",
       "      <th>Day</th>\n",
       "      <th>Hour</th>\n",
       "    </tr>\n",
       "  </thead>\n",
       "  <tbody>\n",
       "    <tr>\n",
       "      <th>0</th>\n",
       "      <td>2006-04-01 00:00:00+02:00</td>\n",
       "      <td>rain</td>\n",
       "      <td>9.472222</td>\n",
       "      <td>7.388889</td>\n",
       "      <td>0.89</td>\n",
       "      <td>14.1197</td>\n",
       "      <td>251.0</td>\n",
       "      <td>15.8263</td>\n",
       "      <td>1015.13</td>\n",
       "      <td>2006</td>\n",
       "      <td>4</td>\n",
       "      <td>1</td>\n",
       "      <td>0</td>\n",
       "    </tr>\n",
       "    <tr>\n",
       "      <th>1</th>\n",
       "      <td>2006-04-01 01:00:00+02:00</td>\n",
       "      <td>rain</td>\n",
       "      <td>9.355556</td>\n",
       "      <td>7.227778</td>\n",
       "      <td>0.86</td>\n",
       "      <td>14.2646</td>\n",
       "      <td>259.0</td>\n",
       "      <td>15.8263</td>\n",
       "      <td>1015.63</td>\n",
       "      <td>2006</td>\n",
       "      <td>4</td>\n",
       "      <td>1</td>\n",
       "      <td>1</td>\n",
       "    </tr>\n",
       "    <tr>\n",
       "      <th>2</th>\n",
       "      <td>2006-04-01 02:00:00+02:00</td>\n",
       "      <td>rain</td>\n",
       "      <td>9.377778</td>\n",
       "      <td>9.377778</td>\n",
       "      <td>0.89</td>\n",
       "      <td>3.9284</td>\n",
       "      <td>204.0</td>\n",
       "      <td>14.9569</td>\n",
       "      <td>1015.94</td>\n",
       "      <td>2006</td>\n",
       "      <td>4</td>\n",
       "      <td>1</td>\n",
       "      <td>2</td>\n",
       "    </tr>\n",
       "    <tr>\n",
       "      <th>3</th>\n",
       "      <td>2006-04-01 03:00:00+02:00</td>\n",
       "      <td>rain</td>\n",
       "      <td>8.288889</td>\n",
       "      <td>5.944444</td>\n",
       "      <td>0.83</td>\n",
       "      <td>14.1036</td>\n",
       "      <td>269.0</td>\n",
       "      <td>15.8263</td>\n",
       "      <td>1016.41</td>\n",
       "      <td>2006</td>\n",
       "      <td>4</td>\n",
       "      <td>1</td>\n",
       "      <td>3</td>\n",
       "    </tr>\n",
       "    <tr>\n",
       "      <th>4</th>\n",
       "      <td>2006-04-01 04:00:00+02:00</td>\n",
       "      <td>rain</td>\n",
       "      <td>8.755556</td>\n",
       "      <td>6.977778</td>\n",
       "      <td>0.83</td>\n",
       "      <td>11.0446</td>\n",
       "      <td>259.0</td>\n",
       "      <td>15.8263</td>\n",
       "      <td>1016.51</td>\n",
       "      <td>2006</td>\n",
       "      <td>4</td>\n",
       "      <td>1</td>\n",
       "      <td>4</td>\n",
       "    </tr>\n",
       "    <tr>\n",
       "      <th>...</th>\n",
       "      <td>...</td>\n",
       "      <td>...</td>\n",
       "      <td>...</td>\n",
       "      <td>...</td>\n",
       "      <td>...</td>\n",
       "      <td>...</td>\n",
       "      <td>...</td>\n",
       "      <td>...</td>\n",
       "      <td>...</td>\n",
       "      <td>...</td>\n",
       "      <td>...</td>\n",
       "      <td>...</td>\n",
       "      <td>...</td>\n",
       "    </tr>\n",
       "    <tr>\n",
       "      <th>96448</th>\n",
       "      <td>2016-09-09 19:00:00+02:00</td>\n",
       "      <td>rain</td>\n",
       "      <td>26.016667</td>\n",
       "      <td>26.016667</td>\n",
       "      <td>0.43</td>\n",
       "      <td>10.9963</td>\n",
       "      <td>31.0</td>\n",
       "      <td>16.1000</td>\n",
       "      <td>1014.36</td>\n",
       "      <td>2016</td>\n",
       "      <td>9</td>\n",
       "      <td>9</td>\n",
       "      <td>19</td>\n",
       "    </tr>\n",
       "    <tr>\n",
       "      <th>96449</th>\n",
       "      <td>2016-09-09 20:00:00+02:00</td>\n",
       "      <td>rain</td>\n",
       "      <td>24.583333</td>\n",
       "      <td>24.583333</td>\n",
       "      <td>0.48</td>\n",
       "      <td>10.0947</td>\n",
       "      <td>20.0</td>\n",
       "      <td>15.5526</td>\n",
       "      <td>1015.16</td>\n",
       "      <td>2016</td>\n",
       "      <td>9</td>\n",
       "      <td>9</td>\n",
       "      <td>20</td>\n",
       "    </tr>\n",
       "    <tr>\n",
       "      <th>96450</th>\n",
       "      <td>2016-09-09 21:00:00+02:00</td>\n",
       "      <td>rain</td>\n",
       "      <td>22.038889</td>\n",
       "      <td>22.038889</td>\n",
       "      <td>0.56</td>\n",
       "      <td>8.9838</td>\n",
       "      <td>30.0</td>\n",
       "      <td>16.1000</td>\n",
       "      <td>1015.66</td>\n",
       "      <td>2016</td>\n",
       "      <td>9</td>\n",
       "      <td>9</td>\n",
       "      <td>21</td>\n",
       "    </tr>\n",
       "    <tr>\n",
       "      <th>96451</th>\n",
       "      <td>2016-09-09 22:00:00+02:00</td>\n",
       "      <td>rain</td>\n",
       "      <td>21.522222</td>\n",
       "      <td>21.522222</td>\n",
       "      <td>0.60</td>\n",
       "      <td>10.5294</td>\n",
       "      <td>20.0</td>\n",
       "      <td>16.1000</td>\n",
       "      <td>1015.95</td>\n",
       "      <td>2016</td>\n",
       "      <td>9</td>\n",
       "      <td>9</td>\n",
       "      <td>22</td>\n",
       "    </tr>\n",
       "    <tr>\n",
       "      <th>96452</th>\n",
       "      <td>2016-09-09 23:00:00+02:00</td>\n",
       "      <td>rain</td>\n",
       "      <td>20.438889</td>\n",
       "      <td>20.438889</td>\n",
       "      <td>0.61</td>\n",
       "      <td>5.8765</td>\n",
       "      <td>39.0</td>\n",
       "      <td>15.5204</td>\n",
       "      <td>1016.16</td>\n",
       "      <td>2016</td>\n",
       "      <td>9</td>\n",
       "      <td>9</td>\n",
       "      <td>23</td>\n",
       "    </tr>\n",
       "  </tbody>\n",
       "</table>\n",
       "<p>96453 rows × 13 columns</p>\n",
       "</div>"
      ],
      "text/plain": [
       "                  Formatted Date Precip Type  Temperature  \\\n",
       "0      2006-04-01 00:00:00+02:00        rain     9.472222   \n",
       "1      2006-04-01 01:00:00+02:00        rain     9.355556   \n",
       "2      2006-04-01 02:00:00+02:00        rain     9.377778   \n",
       "3      2006-04-01 03:00:00+02:00        rain     8.288889   \n",
       "4      2006-04-01 04:00:00+02:00        rain     8.755556   \n",
       "...                          ...         ...          ...   \n",
       "96448  2016-09-09 19:00:00+02:00        rain    26.016667   \n",
       "96449  2016-09-09 20:00:00+02:00        rain    24.583333   \n",
       "96450  2016-09-09 21:00:00+02:00        rain    22.038889   \n",
       "96451  2016-09-09 22:00:00+02:00        rain    21.522222   \n",
       "96452  2016-09-09 23:00:00+02:00        rain    20.438889   \n",
       "\n",
       "       Apparent Temperature  Humidity  Wind Speed  Wind Bearing  Visibility  \\\n",
       "0                  7.388889      0.89     14.1197         251.0     15.8263   \n",
       "1                  7.227778      0.86     14.2646         259.0     15.8263   \n",
       "2                  9.377778      0.89      3.9284         204.0     14.9569   \n",
       "3                  5.944444      0.83     14.1036         269.0     15.8263   \n",
       "4                  6.977778      0.83     11.0446         259.0     15.8263   \n",
       "...                     ...       ...         ...           ...         ...   \n",
       "96448             26.016667      0.43     10.9963          31.0     16.1000   \n",
       "96449             24.583333      0.48     10.0947          20.0     15.5526   \n",
       "96450             22.038889      0.56      8.9838          30.0     16.1000   \n",
       "96451             21.522222      0.60     10.5294          20.0     16.1000   \n",
       "96452             20.438889      0.61      5.8765          39.0     15.5204   \n",
       "\n",
       "       Pressure  Year  Month  Day  Hour  \n",
       "0       1015.13  2006      4    1     0  \n",
       "1       1015.63  2006      4    1     1  \n",
       "2       1015.94  2006      4    1     2  \n",
       "3       1016.41  2006      4    1     3  \n",
       "4       1016.51  2006      4    1     4  \n",
       "...         ...   ...    ...  ...   ...  \n",
       "96448   1014.36  2016      9    9    19  \n",
       "96449   1015.16  2016      9    9    20  \n",
       "96450   1015.66  2016      9    9    21  \n",
       "96451   1015.95  2016      9    9    22  \n",
       "96452   1016.16  2016      9    9    23  \n",
       "\n",
       "[96453 rows x 13 columns]"
      ]
     },
     "execution_count": 48,
     "metadata": {},
     "output_type": "execute_result"
    }
   ],
   "source": [
    "df"
   ]
  },
  {
   "cell_type": "markdown",
   "metadata": {},
   "source": [
    "The regressions and classificatons done below were done using **scikit-learn**, a powerful library in Python used for Machine Learnin and Statistics. Before see the results that I have obtained, it's necessary to split the dataset into two differents:\n",
    "- Train set: used to train all classifiers and regressors;\n",
    "- Test set: used to tests all classifers and regressors prepared;"
   ]
  },
  {
   "cell_type": "code",
   "execution_count": 49,
   "metadata": {},
   "outputs": [],
   "source": [
    "#Splitting the dataset into train, and test dataset\n",
    "[dfTrain,dfTest] = train_test_split(df.drop(['Formatted Date','Year','Month','Day'],axis=1),random_state=1234,test_size=testPortion) "
   ]
  },
  {
   "cell_type": "markdown",
   "metadata": {},
   "source": [
    "## Predicting Temperature  basing on Humidity"
   ]
  },
  {
   "cell_type": "markdown",
   "metadata": {},
   "source": [
    "First of all let's start doing a simple Linear Regression. Our aim is to minimize as soon as possible the **RMSE** (Residual  Minimum Squared Error) computed as the mean of the differences between real and predicted values. Let's find out if **Temperature** and **Humidity** are correllated each other."
   ]
  },
  {
   "cell_type": "code",
   "execution_count": 50,
   "metadata": {},
   "outputs": [],
   "source": [
    "xTrain = dfTrain[\"Humidity\"].values\n",
    "xTest  = dfTest[\"Humidity\"].values\n",
    "yTrain = dfTrain[\"Temperature\"].values\n",
    "yTest  = dfTest[\"Temperature\"].values\n",
    "\n",
    "xTrain = np.reshape(xTrain,(-1,1))\n",
    "xTest = np.reshape(xTest,(-1,1))"
   ]
  },
  {
   "cell_type": "code",
   "execution_count": 51,
   "metadata": {},
   "outputs": [
    {
     "data": {
      "text/plain": [
       "LinearRegression()"
      ]
     },
     "execution_count": 51,
     "metadata": {},
     "output_type": "execute_result"
    }
   ],
   "source": [
    "linReg = LinearRegression()\n",
    "linReg.fit(xTrain,yTrain)"
   ]
  },
  {
   "cell_type": "code",
   "execution_count": 52,
   "metadata": {},
   "outputs": [
    {
     "name": "stdout",
     "output_type": "stream",
     "text": [
      "Intercepts:  34.671419460194286\n",
      "Coefficients:  [-30.96347094]\n"
     ]
    }
   ],
   "source": [
    "#Print reg params\n",
    "print(f\"Intercepts:  {linReg.intercept_}\")\n",
    "print(f\"Coefficients:  {linReg.coef_}\")"
   ]
  },
  {
   "cell_type": "code",
   "execution_count": 53,
   "metadata": {},
   "outputs": [
    {
     "data": {
      "image/png": "[encoded data removed]",
      "text/plain": [
       "<Figure size 432x288 with 1 Axes>"
      ]
     },
     "metadata": {
      "needs_background": "light"
     },
     "output_type": "display_data"
    }
   ],
   "source": [
    "yTestPredicted = linReg.predict(xTest)\n",
    "plt.scatter(xTrain,yTrain)\n",
    "plt.xlabel(\"Humidity\")\n",
    "plt.ylabel(\"Temperature\")\n",
    "plt.title(\"Correlation between Temperature And Humidity\")\n",
    "plt.plot(xTest,yTestPredicted,color=\"orange\")\n",
    "plt.show()"
   ]
  },
  {
   "cell_type": "code",
   "execution_count": 54,
   "metadata": {},
   "outputs": [
    {
     "name": "stdout",
     "output_type": "stream",
     "text": [
      "RMSE test set:  7.393057970127397\n",
      "R^2 score:  0.3990707303279296\n"
     ]
    }
   ],
   "source": [
    "print(\"RMSE test set: \",np.sqrt(mean_squared_error(yTest,yTestPredicted)))\n",
    "print(\"R^2 score: \",linReg.score(xTest,yTest))"
   ]
  },
  {
   "cell_type": "markdown",
   "metadata": {},
   "source": [
    "The $R^2$, is the proportion of the variance in the dependent variable that is predictable from the independent variable(s). It is a statist that tell us the quality of a regressor\n",
    "\n",
    "The chart above shows the best \"line\" that approxes all the points. Unfortunatley we have a score of 40%, so it is not a good regression. It seems that **Humidity** pass perfectly trough the points, but this is an illusion because the chart is fitted with a lot of points."
   ]
  },
  {
   "cell_type": "markdown",
   "metadata": {},
   "source": [
    "## Predicting Apparent Temperature every hour\n",
    "The apparent temperature is the temperature perceived by humans, caused by the combined effect of air temperature, relative temperature and wind speed. Mostly, it is applied on outdoor perceived temperature. Is it that these features have a great correlation? \\\n",
    "Let's find out."
   ]
  },
  {
   "cell_type": "code",
   "execution_count": 104,
   "metadata": {},
   "outputs": [],
   "source": [
    "xData = df[[\"Temperature\",\"Humidity\",\"Wind Speed\"]].values\n",
    "yData = df[\"Apparent Temperature\"].values"
   ]
  },
  {
   "cell_type": "code",
   "execution_count": 105,
   "metadata": {},
   "outputs": [],
   "source": [
    "#Take data needed\n",
    "xTrain = dfTrain[[\"Temperature\",\"Humidity\",\"Wind Speed\"]].values\n",
    "yTrain = dfTrain[\"Apparent Temperature\"].values\n",
    "\n",
    "xTest = dfTest[[\"Temperature\",\"Humidity\",\"Wind Speed\"]].values\n",
    "yTest = dfTest[\"Apparent Temperature\"].values"
   ]
  },
  {
   "cell_type": "code",
   "execution_count": 106,
   "metadata": {},
   "outputs": [
    {
     "name": "stdout",
     "output_type": "stream",
     "text": [
      "Intercepts:  -2.3331653308953335\n",
      "Coefficients:  [ 1.12579598  1.05095834 -0.09460986]\n"
     ]
    }
   ],
   "source": [
    "#Prepare Linear Regressior\n",
    "linReg = LinearRegression()\n",
    "linReg.fit(xTrain,yTrain)\n",
    "print(f\"Intercepts:  {linReg.intercept_}\")\n",
    "print(f\"Coefficients:  {linReg.coef_}\")"
   ]
  },
  {
   "cell_type": "code",
   "execution_count": 107,
   "metadata": {},
   "outputs": [
    {
     "name": "stdout",
     "output_type": "stream",
     "text": [
      "RMSE train set: 1.0787056503099857\n"
     ]
    }
   ],
   "source": [
    "#Checking how regressior behaviours with dfTest\n",
    "yTrainPredicted = linReg.predict(xTrain)\n",
    "RMSETrain = np.sqrt(mean_squared_error(yTrain,yTrainPredicted))\n",
    "print(f\"RMSE train set: {RMSETrain}\")"
   ]
  },
  {
   "cell_type": "code",
   "execution_count": 108,
   "metadata": {},
   "outputs": [],
   "source": [
    "yTestPredicted = linReg.predict(xTest)"
   ]
  },
  {
   "cell_type": "code",
   "execution_count": 109,
   "metadata": {},
   "outputs": [
    {
     "data": {
      "image/png": "[encoded data removed]",
      "text/plain": [
       "<Figure size 432x288 with 1 Axes>"
      ]
     },
     "metadata": {
      "needs_background": "light"
     },
     "output_type": "display_data"
    }
   ],
   "source": [
    "#Show errors distribution\n",
    "errors = np.abs(yTestPredicted - yTest)\n",
    "plt.figure()\n",
    "plt.title(\"Error distribution - Apparent Temperature\")\n",
    "plt.hist(x = errors, bins = 50)\n",
    "plt.show()"
   ]
  },
  {
   "cell_type": "code",
   "execution_count": 110,
   "metadata": {},
   "outputs": [
    {
     "data": {
      "image/png": "[encoded data removed]",
      "text/plain": [
       "<Figure size 1008x288 with 1 Axes>"
      ]
     },
     "metadata": {
      "needs_background": "light"
     },
     "output_type": "display_data"
    }
   ],
   "source": [
    "#Show trend between real and predicted (based on a sample of 1500 units)\n",
    "plt.figure(figsize=(14, 4))\n",
    "plt.title(\"Comparison between real and estimate data - Apparent Temperature\")\n",
    "plt.plot(yTest[0:1500], label='Real')\n",
    "plt.plot(yTestPredicted[0:1500], label='Prediction')\n",
    "plt.legend(bbox_to_anchor=(1.02, 1), loc='upper left', borderaxespad=0.)\n",
    "plt.show()"
   ]
  },
  {
   "cell_type": "code",
   "execution_count": 111,
   "metadata": {
    "scrolled": true
   },
   "outputs": [
    {
     "name": "stdout",
     "output_type": "stream",
     "text": [
      "RMSE score test: 1.0822567412636568\n",
      "R2 score test: 0.989796357182796\n"
     ]
    }
   ],
   "source": [
    "#Try to predict \"real\" data\n",
    "RMSETest = np.sqrt(mean_squared_error(yTest,yTestPredicted))\n",
    "R2Test = linReg.score(xTest,yTest)\n",
    "print(f\"RMSE score test: {RMSETest}\")\n",
    "print(f\"R2 score test: {R2Test}\")"
   ]
  },
  {
   "cell_type": "markdown",
   "metadata": {},
   "source": [
    "In conclusion, it's a evidence that they have a great correlation. The regression is abled to explain the 98% of all instances. So, there is no reason to try improving its quality through other algorithms. We can also save result in a txt file executing the cell below."
   ]
  },
  {
   "cell_type": "code",
   "execution_count": 112,
   "metadata": {},
   "outputs": [],
   "source": [
    "#Save prediction's data\n",
    "np.savetxt(resPath + \"Apparent Temperature - Predictions\",yTestPredicted)"
   ]
  },
  {
   "cell_type": "markdown",
   "metadata": {},
   "source": [
    "## Predicting Atmospheric Pressure - Ridge and Lasso Regression\n",
    "Let's try predicting Pressure using all relevant columns. This predictions will be done using Ridge and Lasso regression."
   ]
  },
  {
   "cell_type": "code",
   "execution_count": 113,
   "metadata": {},
   "outputs": [],
   "source": [
    "targetColumn = [\"Pressure\"]\n",
    "predictors = list(set(list(df.drop(['Formatted Date','Month','Day','Year','Hour','Precip Type'],axis = 1))) \n",
    "                  - set(targetColumn))\n",
    "alpha = [1e-15, 1e-10, 1e-8, 1e-4, 1e-3,1e-2, 1, 5, 10]\n",
    "params = {'alpha': alpha}\n",
    "\n",
    "Xs = dfTrain[predictors].values\n",
    "Ys = dfTrain[targetColumn].values\n",
    "\n",
    "xTest = dfTest[predictors].values\n",
    "yTest = dfTest[\"Pressure\"].values\n"
   ]
  },
  {
   "cell_type": "markdown",
   "metadata": {},
   "source": [
    "Define the number of folder used for GridSearchCV"
   ]
  },
  {
   "cell_type": "code",
   "execution_count": 114,
   "metadata": {},
   "outputs": [],
   "source": [
    "cv = 5"
   ]
  },
  {
   "cell_type": "markdown",
   "metadata": {},
   "source": [
    "   ### Ridge Regression"
   ]
  },
  {
   "cell_type": "code",
   "execution_count": 115,
   "metadata": {},
   "outputs": [
    {
     "name": "stdout",
     "output_type": "stream",
     "text": [
      "Fitting 5 folds for each of 9 candidates, totalling 45 fits\n"
     ]
    },
    {
     "name": "stderr",
     "output_type": "stream",
     "text": [
      "[Parallel(n_jobs=1)]: Using backend SequentialBackend with 1 concurrent workers.\n",
      "[Parallel(n_jobs=1)]: Done  45 out of  45 | elapsed:    0.2s finished\n"
     ]
    },
    {
     "data": {
      "text/plain": [
       "GridSearchCV(cv=5, estimator=Ridge(),\n",
       "             param_grid={'alpha': [1e-15, 1e-10, 1e-08, 0.0001, 0.001, 0.01, 1,\n",
       "                                   5, 10]},\n",
       "             scoring='neg_mean_squared_error', verbose=1)"
      ]
     },
     "execution_count": 115,
     "metadata": {},
     "output_type": "execute_result"
    }
   ],
   "source": [
    "ridge = Ridge()\n",
    "ridgeReg = GridSearchCV(ridge,params,scoring='neg_mean_squared_error', cv = cv, verbose=1)\n",
    "ridgeReg.fit(Xs,Ys)"
   ]
  },
  {
   "cell_type": "code",
   "execution_count": 116,
   "metadata": {},
   "outputs": [
    {
     "data": {
      "text/plain": [
       "{'alpha': 10}"
      ]
     },
     "execution_count": 116,
     "metadata": {},
     "output_type": "execute_result"
    }
   ],
   "source": [
    "ridgeReg.best_params_"
   ]
  },
  {
   "cell_type": "code",
   "execution_count": 117,
   "metadata": {},
   "outputs": [
    {
     "data": {
      "text/plain": [
       "-13718.19846511773"
      ]
     },
     "execution_count": 117,
     "metadata": {},
     "output_type": "execute_result"
    }
   ],
   "source": [
    "ridgeReg.best_score_"
   ]
  },
  {
   "cell_type": "code",
   "execution_count": 118,
   "metadata": {},
   "outputs": [],
   "source": [
    "yTestRidgePredicted = ridgeReg.predict(xTest)"
   ]
  },
  {
   "cell_type": "code",
   "execution_count": 119,
   "metadata": {},
   "outputs": [
    {
     "name": "stdout",
     "output_type": "stream",
     "text": [
      "RMSE score: 116.29020092558753\n"
     ]
    }
   ],
   "source": [
    "ridgeError = np.sqrt(mean_squared_error(yTest,yTestRidgePredicted))\n",
    "print(f\"RMSE score: {ridgeError}\")"
   ]
  },
  {
   "cell_type": "markdown",
   "metadata": {},
   "source": [
    "### Lasso Regression"
   ]
  },
  {
   "cell_type": "code",
   "execution_count": 120,
   "metadata": {},
   "outputs": [
    {
     "name": "stdout",
     "output_type": "stream",
     "text": [
      "Fitting 5 folds for each of 9 candidates, totalling 45 fits\n"
     ]
    },
    {
     "name": "stderr",
     "output_type": "stream",
     "text": [
      "[Parallel(n_jobs=1)]: Using backend SequentialBackend with 1 concurrent workers.\n",
      "C:\\Users\\Notebook\\anaconda3\\envs\\Data Science\\lib\\site-packages\\sklearn\\linear_model\\_coordinate_descent.py:529: ConvergenceWarning: Objective did not converge. You might want to increase the number of iterations. Duality gap: 319308011.18365693, tolerance: 64418.168653511624\n",
      "  model = cd_fast.enet_coordinate_descent(\n",
      "C:\\Users\\Notebook\\anaconda3\\envs\\Data Science\\lib\\site-packages\\sklearn\\linear_model\\_coordinate_descent.py:529: ConvergenceWarning: Objective did not converge. You might want to increase the number of iterations. Duality gap: 310490927.4416188, tolerance: 62602.85688321182\n",
      "  model = cd_fast.enet_coordinate_descent(\n",
      "C:\\Users\\Notebook\\anaconda3\\envs\\Data Science\\lib\\site-packages\\sklearn\\linear_model\\_coordinate_descent.py:529: ConvergenceWarning: Objective did not converge. You might want to increase the number of iterations. Duality gap: 314833187.24347764, tolerance: 63513.584163245694\n",
      "  model = cd_fast.enet_coordinate_descent(\n",
      "C:\\Users\\Notebook\\anaconda3\\envs\\Data Science\\lib\\site-packages\\sklearn\\linear_model\\_coordinate_descent.py:529: ConvergenceWarning: Objective did not converge. You might want to increase the number of iterations. Duality gap: 314084798.6824883, tolerance: 63306.817530555\n",
      "  model = cd_fast.enet_coordinate_descent(\n",
      "C:\\Users\\Notebook\\anaconda3\\envs\\Data Science\\lib\\site-packages\\sklearn\\linear_model\\_coordinate_descent.py:529: ConvergenceWarning: Objective did not converge. You might want to increase the number of iterations. Duality gap: 319849243.7683769, tolerance: 64517.991691655305\n",
      "  model = cd_fast.enet_coordinate_descent(\n",
      "C:\\Users\\Notebook\\anaconda3\\envs\\Data Science\\lib\\site-packages\\sklearn\\linear_model\\_coordinate_descent.py:529: ConvergenceWarning: Objective did not converge. You might want to increase the number of iterations. Duality gap: 319307563.07808465, tolerance: 64418.168653511624\n",
      "  model = cd_fast.enet_coordinate_descent(\n",
      "C:\\Users\\Notebook\\anaconda3\\envs\\Data Science\\lib\\site-packages\\sklearn\\linear_model\\_coordinate_descent.py:529: ConvergenceWarning: Objective did not converge. You might want to increase the number of iterations. Duality gap: 310490339.7465694, tolerance: 62602.85688321182\n",
      "  model = cd_fast.enet_coordinate_descent(\n",
      "C:\\Users\\Notebook\\anaconda3\\envs\\Data Science\\lib\\site-packages\\sklearn\\linear_model\\_coordinate_descent.py:529: ConvergenceWarning: Objective did not converge. You might want to increase the number of iterations. Duality gap: 314832684.7573492, tolerance: 63513.584163245694\n",
      "  model = cd_fast.enet_coordinate_descent(\n",
      "C:\\Users\\Notebook\\anaconda3\\envs\\Data Science\\lib\\site-packages\\sklearn\\linear_model\\_coordinate_descent.py:529: ConvergenceWarning: Objective did not converge. You might want to increase the number of iterations. Duality gap: 314084260.85562, tolerance: 63306.817530555\n",
      "  model = cd_fast.enet_coordinate_descent(\n",
      "C:\\Users\\Notebook\\anaconda3\\envs\\Data Science\\lib\\site-packages\\sklearn\\linear_model\\_coordinate_descent.py:529: ConvergenceWarning: Objective did not converge. You might want to increase the number of iterations. Duality gap: 319848807.4198854, tolerance: 64517.991691655305\n",
      "  model = cd_fast.enet_coordinate_descent(\n",
      "C:\\Users\\Notebook\\anaconda3\\envs\\Data Science\\lib\\site-packages\\sklearn\\linear_model\\_coordinate_descent.py:529: ConvergenceWarning: Objective did not converge. You might want to increase the number of iterations. Duality gap: 319263204.8507876, tolerance: 64418.168653511624\n",
      "  model = cd_fast.enet_coordinate_descent(\n",
      "C:\\Users\\Notebook\\anaconda3\\envs\\Data Science\\lib\\site-packages\\sklearn\\linear_model\\_coordinate_descent.py:529: ConvergenceWarning: Objective did not converge. You might want to increase the number of iterations. Duality gap: 310432165.6125994, tolerance: 62602.85688321182\n",
      "  model = cd_fast.enet_coordinate_descent(\n",
      "C:\\Users\\Notebook\\anaconda3\\envs\\Data Science\\lib\\site-packages\\sklearn\\linear_model\\_coordinate_descent.py:529: ConvergenceWarning: Objective did not converge. You might want to increase the number of iterations. Duality gap: 314782944.0867751, tolerance: 63513.584163245694\n",
      "  model = cd_fast.enet_coordinate_descent(\n",
      "C:\\Users\\Notebook\\anaconda3\\envs\\Data Science\\lib\\site-packages\\sklearn\\linear_model\\_coordinate_descent.py:529: ConvergenceWarning: Objective did not converge. You might want to increase the number of iterations. Duality gap: 314031022.2999399, tolerance: 63306.817530555\n",
      "  model = cd_fast.enet_coordinate_descent(\n",
      "C:\\Users\\Notebook\\anaconda3\\envs\\Data Science\\lib\\site-packages\\sklearn\\linear_model\\_coordinate_descent.py:529: ConvergenceWarning: Objective did not converge. You might want to increase the number of iterations. Duality gap: 319805612.9063885, tolerance: 64517.991691655305\n",
      "  model = cd_fast.enet_coordinate_descent(\n",
      "C:\\Users\\Notebook\\anaconda3\\envs\\Data Science\\lib\\site-packages\\sklearn\\linear_model\\_coordinate_descent.py:529: ConvergenceWarning: Objective did not converge. You might want to increase the number of iterations. Duality gap: 110248430.73856482, tolerance: 64418.168653511624\n",
      "  model = cd_fast.enet_coordinate_descent(\n",
      "C:\\Users\\Notebook\\anaconda3\\envs\\Data Science\\lib\\site-packages\\sklearn\\linear_model\\_coordinate_descent.py:529: ConvergenceWarning: Objective did not converge. You might want to increase the number of iterations. Duality gap: 81944107.8383261, tolerance: 62602.85688321182\n",
      "  model = cd_fast.enet_coordinate_descent(\n",
      "C:\\Users\\Notebook\\anaconda3\\envs\\Data Science\\lib\\site-packages\\sklearn\\linear_model\\_coordinate_descent.py:529: ConvergenceWarning: Objective did not converge. You might want to increase the number of iterations. Duality gap: 97372473.68113339, tolerance: 63513.584163245694\n",
      "  model = cd_fast.enet_coordinate_descent(\n",
      "C:\\Users\\Notebook\\anaconda3\\envs\\Data Science\\lib\\site-packages\\sklearn\\linear_model\\_coordinate_descent.py:529: ConvergenceWarning: Objective did not converge. You might want to increase the number of iterations. Duality gap: 91148260.5488531, tolerance: 63306.817530555\n",
      "  model = cd_fast.enet_coordinate_descent(\n",
      "C:\\Users\\Notebook\\anaconda3\\envs\\Data Science\\lib\\site-packages\\sklearn\\linear_model\\_coordinate_descent.py:529: ConvergenceWarning: Objective did not converge. You might want to increase the number of iterations. Duality gap: 113029213.1483554, tolerance: 64517.991691655305\n",
      "  model = cd_fast.enet_coordinate_descent(\n",
      "C:\\Users\\Notebook\\anaconda3\\envs\\Data Science\\lib\\site-packages\\sklearn\\linear_model\\_coordinate_descent.py:529: ConvergenceWarning: Objective did not converge. You might want to increase the number of iterations. Duality gap: 4949743.761559606, tolerance: 64418.168653511624\n",
      "  model = cd_fast.enet_coordinate_descent(\n",
      "C:\\Users\\Notebook\\anaconda3\\envs\\Data Science\\lib\\site-packages\\sklearn\\linear_model\\_coordinate_descent.py:529: ConvergenceWarning: Objective did not converge. You might want to increase the number of iterations. Duality gap: 2827923.3799529076, tolerance: 62602.85688321182\n",
      "  model = cd_fast.enet_coordinate_descent(\n",
      "C:\\Users\\Notebook\\anaconda3\\envs\\Data Science\\lib\\site-packages\\sklearn\\linear_model\\_coordinate_descent.py:529: ConvergenceWarning: Objective did not converge. You might want to increase the number of iterations. Duality gap: 3894798.3698529005, tolerance: 63513.584163245694\n",
      "  model = cd_fast.enet_coordinate_descent(\n",
      "C:\\Users\\Notebook\\anaconda3\\envs\\Data Science\\lib\\site-packages\\sklearn\\linear_model\\_coordinate_descent.py:529: ConvergenceWarning: Objective did not converge. You might want to increase the number of iterations. Duality gap: 3427089.534471154, tolerance: 63306.817530555\n",
      "  model = cd_fast.enet_coordinate_descent(\n",
      "C:\\Users\\Notebook\\anaconda3\\envs\\Data Science\\lib\\site-packages\\sklearn\\linear_model\\_coordinate_descent.py:529: ConvergenceWarning: Objective did not converge. You might want to increase the number of iterations. Duality gap: 5218678.149461031, tolerance: 64517.991691655305\n",
      "  model = cd_fast.enet_coordinate_descent(\n",
      "C:\\Users\\Notebook\\anaconda3\\envs\\Data Science\\lib\\site-packages\\sklearn\\linear_model\\_coordinate_descent.py:529: ConvergenceWarning: Objective did not converge. You might want to increase the number of iterations. Duality gap: 65373.85507559776, tolerance: 64517.991691655305\n",
      "  model = cd_fast.enet_coordinate_descent(\n"
     ]
    },
    {
     "name": "stderr",
     "output_type": "stream",
     "text": [
      "[Parallel(n_jobs=1)]: Done  45 out of  45 | elapsed:    5.0s finished\n",
      "C:\\Users\\Notebook\\anaconda3\\envs\\Data Science\\lib\\site-packages\\sklearn\\linear_model\\_coordinate_descent.py:529: ConvergenceWarning: Objective did not converge. You might want to increase the number of iterations. Duality gap: 394659015.8510821, tolerance: 79589.98641307955\n",
      "  model = cd_fast.enet_coordinate_descent(\n"
     ]
    },
    {
     "data": {
      "text/plain": [
       "GridSearchCV(cv=5, estimator=Lasso(),\n",
       "             param_grid={'alpha': [1e-15, 1e-10, 1e-08, 0.0001, 0.001, 0.01, 1,\n",
       "                                   5, 10]},\n",
       "             scoring='neg_mean_squared_error', verbose=1)"
      ]
     },
     "execution_count": 120,
     "metadata": {},
     "output_type": "execute_result"
    }
   ],
   "source": [
    "lasso = Lasso()\n",
    "lassoReg = GridSearchCV(lasso,params,scoring='neg_mean_squared_error', cv= cv, verbose=1)\n",
    "lassoReg.fit(Xs,Ys)"
   ]
  },
  {
   "cell_type": "code",
   "execution_count": 121,
   "metadata": {},
   "outputs": [
    {
     "data": {
      "text/plain": [
       "{'alpha': 1e-15}"
      ]
     },
     "execution_count": 121,
     "metadata": {},
     "output_type": "execute_result"
    }
   ],
   "source": [
    "lassoReg.best_params_"
   ]
  },
  {
   "cell_type": "code",
   "execution_count": 122,
   "metadata": {},
   "outputs": [
    {
     "data": {
      "text/plain": [
       "-13718.200777568496"
      ]
     },
     "execution_count": 122,
     "metadata": {},
     "output_type": "execute_result"
    }
   ],
   "source": [
    "lassoReg.best_score_"
   ]
  },
  {
   "cell_type": "code",
   "execution_count": 123,
   "metadata": {},
   "outputs": [],
   "source": [
    "yTestLassoPredicted = lassoReg.predict(xTest)"
   ]
  },
  {
   "cell_type": "code",
   "execution_count": 74,
   "metadata": {},
   "outputs": [
    {
     "name": "stdout",
     "output_type": "stream",
     "text": [
      "RMSE score: 116.52281301076783\n"
     ]
    }
   ],
   "source": [
    "lassoError = np.sqrt(mean_squared_error(yTest,yTestLassoPredicted))\n",
    "print(f\"RMSE score: {lassoError}\")"
   ]
  },
  {
   "cell_type": "markdown",
   "metadata": {},
   "source": [
    "We can observe that Ridge and Lasso via **GridSearchCV** obtain the diffent RMSE results."
   ]
  },
  {
   "cell_type": "markdown",
   "metadata": {},
   "source": [
    "### Elastic Net Regression"
   ]
  },
  {
   "cell_type": "markdown",
   "metadata": {},
   "source": [
    "The **elastic net** is a regularized regression method that linearly combines the L1 and L2 penalties of the lasso and ridge methods. We may be able to get the same score with a small alpha. Let's find it out."
   ]
  },
  {
   "cell_type": "code",
   "execution_count": 75,
   "metadata": {},
   "outputs": [
    {
     "name": "stdout",
     "output_type": "stream",
     "text": [
      "Fitting 5 folds for each of 9 candidates, totalling 45 fits\n"
     ]
    },
    {
     "name": "stderr",
     "output_type": "stream",
     "text": [
      "[Parallel(n_jobs=1)]: Using backend SequentialBackend with 1 concurrent workers.\n",
      "C:\\Users\\Notebook\\anaconda3\\envs\\Data Science\\lib\\site-packages\\sklearn\\linear_model\\_coordinate_descent.py:529: ConvergenceWarning: Objective did not converge. You might want to increase the number of iterations. Duality gap: 313693457.6578068, tolerance: 63213.63056903937\n",
      "  model = cd_fast.enet_coordinate_descent(\n",
      "C:\\Users\\Notebook\\anaconda3\\envs\\Data Science\\lib\\site-packages\\sklearn\\linear_model\\_coordinate_descent.py:529: ConvergenceWarning: Objective did not converge. You might want to increase the number of iterations. Duality gap: 305260137.2252812, tolerance: 61499.71079985987\n",
      "  model = cd_fast.enet_coordinate_descent(\n",
      "C:\\Users\\Notebook\\anaconda3\\envs\\Data Science\\lib\\site-packages\\sklearn\\linear_model\\_coordinate_descent.py:529: ConvergenceWarning: Objective did not converge. You might want to increase the number of iterations. Duality gap: 305807027.0601071, tolerance: 61608.30682170687\n",
      "  model = cd_fast.enet_coordinate_descent(\n",
      "C:\\Users\\Notebook\\anaconda3\\envs\\Data Science\\lib\\site-packages\\sklearn\\linear_model\\_coordinate_descent.py:529: ConvergenceWarning: Objective did not converge. You might want to increase the number of iterations. Duality gap: 322570573.0347895, tolerance: 65023.634564212574\n",
      "  model = cd_fast.enet_coordinate_descent(\n",
      "C:\\Users\\Notebook\\anaconda3\\envs\\Data Science\\lib\\site-packages\\sklearn\\linear_model\\_coordinate_descent.py:529: ConvergenceWarning: Objective did not converge. You might want to increase the number of iterations. Duality gap: 322542149.86269534, tolerance: 65029.05605171954\n",
      "  model = cd_fast.enet_coordinate_descent(\n",
      "C:\\Users\\Notebook\\anaconda3\\envs\\Data Science\\lib\\site-packages\\sklearn\\linear_model\\_coordinate_descent.py:529: ConvergenceWarning: Objective did not converge. You might want to increase the number of iterations. Duality gap: 313693190.13490474, tolerance: 63213.63056903937\n",
      "  model = cd_fast.enet_coordinate_descent(\n",
      "C:\\Users\\Notebook\\anaconda3\\envs\\Data Science\\lib\\site-packages\\sklearn\\linear_model\\_coordinate_descent.py:529: ConvergenceWarning: Objective did not converge. You might want to increase the number of iterations. Duality gap: 305259740.3607219, tolerance: 61499.71079985987\n",
      "  model = cd_fast.enet_coordinate_descent(\n",
      "C:\\Users\\Notebook\\anaconda3\\envs\\Data Science\\lib\\site-packages\\sklearn\\linear_model\\_coordinate_descent.py:529: ConvergenceWarning: Objective did not converge. You might want to increase the number of iterations. Duality gap: 305806776.3176728, tolerance: 61608.30682170687\n",
      "  model = cd_fast.enet_coordinate_descent(\n",
      "C:\\Users\\Notebook\\anaconda3\\envs\\Data Science\\lib\\site-packages\\sklearn\\linear_model\\_coordinate_descent.py:529: ConvergenceWarning: Objective did not converge. You might want to increase the number of iterations. Duality gap: 322570289.59763116, tolerance: 65023.634564212574\n",
      "  model = cd_fast.enet_coordinate_descent(\n",
      "C:\\Users\\Notebook\\anaconda3\\envs\\Data Science\\lib\\site-packages\\sklearn\\linear_model\\_coordinate_descent.py:529: ConvergenceWarning: Objective did not converge. You might want to increase the number of iterations. Duality gap: 322541885.40895087, tolerance: 65029.05605171954\n",
      "  model = cd_fast.enet_coordinate_descent(\n",
      "C:\\Users\\Notebook\\anaconda3\\envs\\Data Science\\lib\\site-packages\\sklearn\\linear_model\\_coordinate_descent.py:529: ConvergenceWarning: Objective did not converge. You might want to increase the number of iterations. Duality gap: 313666706.7920475, tolerance: 63213.63056903937\n",
      "  model = cd_fast.enet_coordinate_descent(\n",
      "C:\\Users\\Notebook\\anaconda3\\envs\\Data Science\\lib\\site-packages\\sklearn\\linear_model\\_coordinate_descent.py:529: ConvergenceWarning: Objective did not converge. You might want to increase the number of iterations. Duality gap: 305220454.1998657, tolerance: 61499.71079985987\n",
      "  model = cd_fast.enet_coordinate_descent(\n",
      "C:\\Users\\Notebook\\anaconda3\\envs\\Data Science\\lib\\site-packages\\sklearn\\linear_model\\_coordinate_descent.py:529: ConvergenceWarning: Objective did not converge. You might want to increase the number of iterations. Duality gap: 305781954.09043986, tolerance: 61608.30682170687\n",
      "  model = cd_fast.enet_coordinate_descent(\n",
      "C:\\Users\\Notebook\\anaconda3\\envs\\Data Science\\lib\\site-packages\\sklearn\\linear_model\\_coordinate_descent.py:529: ConvergenceWarning: Objective did not converge. You might want to increase the number of iterations. Duality gap: 322542230.882609, tolerance: 65023.634564212574\n",
      "  model = cd_fast.enet_coordinate_descent(\n",
      "C:\\Users\\Notebook\\anaconda3\\envs\\Data Science\\lib\\site-packages\\sklearn\\linear_model\\_coordinate_descent.py:529: ConvergenceWarning: Objective did not converge. You might want to increase the number of iterations. Duality gap: 322515705.8316475, tolerance: 65029.05605171954\n",
      "  model = cd_fast.enet_coordinate_descent(\n",
      "C:\\Users\\Notebook\\anaconda3\\envs\\Data Science\\lib\\site-packages\\sklearn\\linear_model\\_coordinate_descent.py:529: ConvergenceWarning: Objective did not converge. You might want to increase the number of iterations. Duality gap: 154013503.3336891, tolerance: 63213.63056903937\n",
      "  model = cd_fast.enet_coordinate_descent(\n",
      "C:\\Users\\Notebook\\anaconda3\\envs\\Data Science\\lib\\site-packages\\sklearn\\linear_model\\_coordinate_descent.py:529: ConvergenceWarning: Objective did not converge. You might want to increase the number of iterations. Duality gap: 111953993.62032747, tolerance: 61499.71079985987\n",
      "  model = cd_fast.enet_coordinate_descent(\n",
      "C:\\Users\\Notebook\\anaconda3\\envs\\Data Science\\lib\\site-packages\\sklearn\\linear_model\\_coordinate_descent.py:529: ConvergenceWarning: Objective did not converge. You might want to increase the number of iterations. Duality gap: 153663433.4680229, tolerance: 61608.30682170687\n",
      "  model = cd_fast.enet_coordinate_descent(\n",
      "C:\\Users\\Notebook\\anaconda3\\envs\\Data Science\\lib\\site-packages\\sklearn\\linear_model\\_coordinate_descent.py:529: ConvergenceWarning: Objective did not converge. You might want to increase the number of iterations. Duality gap: 155537000.50336513, tolerance: 65023.634564212574\n",
      "  model = cd_fast.enet_coordinate_descent(\n",
      "C:\\Users\\Notebook\\anaconda3\\envs\\Data Science\\lib\\site-packages\\sklearn\\linear_model\\_coordinate_descent.py:529: ConvergenceWarning: Objective did not converge. You might want to increase the number of iterations. Duality gap: 162077746.50797626, tolerance: 65029.05605171954\n",
      "  model = cd_fast.enet_coordinate_descent(\n",
      "C:\\Users\\Notebook\\anaconda3\\envs\\Data Science\\lib\\site-packages\\sklearn\\linear_model\\_coordinate_descent.py:529: ConvergenceWarning: Objective did not converge. You might want to increase the number of iterations. Duality gap: 11004964.009097159, tolerance: 63213.63056903937\n",
      "  model = cd_fast.enet_coordinate_descent(\n",
      "C:\\Users\\Notebook\\anaconda3\\envs\\Data Science\\lib\\site-packages\\sklearn\\linear_model\\_coordinate_descent.py:529: ConvergenceWarning: Objective did not converge. You might want to increase the number of iterations. Duality gap: 5255477.038313627, tolerance: 61499.71079985987\n",
      "  model = cd_fast.enet_coordinate_descent(\n",
      "C:\\Users\\Notebook\\anaconda3\\envs\\Data Science\\lib\\site-packages\\sklearn\\linear_model\\_coordinate_descent.py:529: ConvergenceWarning: Objective did not converge. You might want to increase the number of iterations. Duality gap: 11425193.299616814, tolerance: 61608.30682170687\n",
      "  model = cd_fast.enet_coordinate_descent(\n",
      "C:\\Users\\Notebook\\anaconda3\\envs\\Data Science\\lib\\site-packages\\sklearn\\linear_model\\_coordinate_descent.py:529: ConvergenceWarning: Objective did not converge. You might want to increase the number of iterations. Duality gap: 10781856.762517095, tolerance: 65023.634564212574\n",
      "  model = cd_fast.enet_coordinate_descent(\n",
      "C:\\Users\\Notebook\\anaconda3\\envs\\Data Science\\lib\\site-packages\\sklearn\\linear_model\\_coordinate_descent.py:529: ConvergenceWarning: Objective did not converge. You might want to increase the number of iterations. Duality gap: 12054111.21197921, tolerance: 65029.05605171954\n",
      "  model = cd_fast.enet_coordinate_descent(\n",
      "C:\\Users\\Notebook\\anaconda3\\envs\\Data Science\\lib\\site-packages\\sklearn\\linear_model\\_coordinate_descent.py:529: ConvergenceWarning: Objective did not converge. You might want to increase the number of iterations. Duality gap: 120145.39061999321, tolerance: 63213.63056903937\n",
      "  model = cd_fast.enet_coordinate_descent(\n"
     ]
    },
    {
     "name": "stderr",
     "output_type": "stream",
     "text": [
      "C:\\Users\\Notebook\\anaconda3\\envs\\Data Science\\lib\\site-packages\\sklearn\\linear_model\\_coordinate_descent.py:529: ConvergenceWarning: Objective did not converge. You might want to increase the number of iterations. Duality gap: 125557.73769176006, tolerance: 61608.30682170687\n",
      "  model = cd_fast.enet_coordinate_descent(\n",
      "C:\\Users\\Notebook\\anaconda3\\envs\\Data Science\\lib\\site-packages\\sklearn\\linear_model\\_coordinate_descent.py:529: ConvergenceWarning: Objective did not converge. You might want to increase the number of iterations. Duality gap: 116835.06553149223, tolerance: 65023.634564212574\n",
      "  model = cd_fast.enet_coordinate_descent(\n",
      "C:\\Users\\Notebook\\anaconda3\\envs\\Data Science\\lib\\site-packages\\sklearn\\linear_model\\_coordinate_descent.py:529: ConvergenceWarning: Objective did not converge. You might want to increase the number of iterations. Duality gap: 132766.35574901104, tolerance: 65029.05605171954\n",
      "  model = cd_fast.enet_coordinate_descent(\n",
      "[Parallel(n_jobs=1)]: Done  45 out of  45 | elapsed:    5.0s finished\n",
      "C:\\Users\\Notebook\\anaconda3\\envs\\Data Science\\lib\\site-packages\\sklearn\\linear_model\\_coordinate_descent.py:529: ConvergenceWarning: Objective did not converge. You might want to increase the number of iterations. Duality gap: 12465056.899766445, tolerance: 79094.23538738962\n",
      "  model = cd_fast.enet_coordinate_descent(\n"
     ]
    },
    {
     "data": {
      "text/plain": [
       "GridSearchCV(cv=5, estimator=ElasticNet(),\n",
       "             param_grid={'alpha': [1e-15, 1e-10, 1e-08, 0.0001, 0.001, 0.01, 1,\n",
       "                                   5, 10]},\n",
       "             scoring='neg_mean_squared_error', verbose=1)"
      ]
     },
     "execution_count": 75,
     "metadata": {},
     "output_type": "execute_result"
    }
   ],
   "source": [
    "elasticNet = ElasticNet()\n",
    "elasticReg = GridSearchCV(elasticNet,params,scoring=\"neg_mean_squared_error\",cv = cv, verbose = 1)\n",
    "elasticReg.fit(Xs,Ys)"
   ]
  },
  {
   "cell_type": "code",
   "execution_count": 76,
   "metadata": {},
   "outputs": [
    {
     "data": {
      "text/plain": [
       "{'alpha': 0.001}"
      ]
     },
     "execution_count": 76,
     "metadata": {},
     "output_type": "execute_result"
    }
   ],
   "source": [
    "elasticReg.best_params_"
   ]
  },
  {
   "cell_type": "code",
   "execution_count": 77,
   "metadata": {},
   "outputs": [
    {
     "data": {
      "text/plain": [
       "-13568.293241715637"
      ]
     },
     "execution_count": 77,
     "metadata": {},
     "output_type": "execute_result"
    }
   ],
   "source": [
    "elasticReg.best_score_"
   ]
  },
  {
   "cell_type": "code",
   "execution_count": 78,
   "metadata": {},
   "outputs": [],
   "source": [
    "yTestElasticNetPredicted = elasticReg.predict(xTest)"
   ]
  },
  {
   "cell_type": "code",
   "execution_count": 80,
   "metadata": {},
   "outputs": [
    {
     "name": "stdout",
     "output_type": "stream",
     "text": [
      "RMSE score: 116.5226589737135\n"
     ]
    }
   ],
   "source": [
    "#Print ElasticNet error\n",
    "elasticError = np.sqrt(mean_squared_error(yTest,yTestElasticNetPredicted))\n",
    "print(f\"RMSE score: {elasticError}\")"
   ]
  },
  {
   "cell_type": "markdown",
   "metadata": {},
   "source": [
    "Via **ElasticNet** regolarization we obtain a small alpha with the same best score."
   ]
  },
  {
   "cell_type": "markdown",
   "metadata": {},
   "source": [
    "## Predicting Weather type basing on Humidity - K NeighborsClassifier"
   ]
  },
  {
   "cell_type": "markdown",
   "metadata": {},
   "source": [
    "We start with classification analyses. Classification is a supervised learning concept which basically categorizes a set of data into classes. "
   ]
  },
  {
   "cell_type": "code",
   "execution_count": 81,
   "metadata": {},
   "outputs": [
    {
     "data": {
      "text/plain": [
       "{'rain', 'snow'}"
      ]
     },
     "execution_count": 81,
     "metadata": {},
     "output_type": "execute_result"
    }
   ],
   "source": [
    "#Drop Precip Type columns with other value cause we have few samples tho predict\n",
    "df = df.drop(df[df[\"Precip Type\"] == \"other\"].index)\n",
    "set(df[\"Precip Type\"])"
   ]
  },
  {
   "cell_type": "code",
   "execution_count": 82,
   "metadata": {},
   "outputs": [],
   "source": [
    "#Divide again the dataset int train and test\n",
    "dfTrain,dfTest = train_test_split(df,random_state=1234,test_size= testPortion)"
   ]
  },
  {
   "cell_type": "code",
   "execution_count": 83,
   "metadata": {},
   "outputs": [],
   "source": [
    "xTrain = dfTrain[\"Humidity\"].values\n",
    "yTrain = dfTrain[\"Precip Type\"].values\n",
    "xTest = dfTest[\"Humidity\"].values\n",
    "yTest = dfTest[\"Precip Type\"].values"
   ]
  },
  {
   "cell_type": "code",
   "execution_count": 84,
   "metadata": {},
   "outputs": [],
   "source": [
    "#Normalize Humidity values\n",
    "scaler = StandardScaler()\n",
    "\n",
    "xTrain = np.reshape(xTrain,(-1,1))\n",
    "xTest = np.reshape(xTest,(-1,1))\n",
    "\n",
    "scaler.fit(xTrain)\n",
    "xTrainScaled = scaler.transform(xTrain)\n",
    "xTestScaled = scaler.transform(xTest)"
   ]
  },
  {
   "cell_type": "code",
   "execution_count": 85,
   "metadata": {},
   "outputs": [
    {
     "data": {
      "text/plain": [
       "KNeighborsClassifier(n_neighbors=3)"
      ]
     },
     "execution_count": 85,
     "metadata": {},
     "output_type": "execute_result"
    }
   ],
   "source": [
    "weatherClassifier =  KNeighborsClassifier(n_neighbors = 3)\n",
    "weatherClassifier.fit(xTrainScaled,yTrain)"
   ]
  },
  {
   "cell_type": "code",
   "execution_count": 86,
   "metadata": {},
   "outputs": [],
   "source": [
    "yWeatherPredicted = weatherClassifier.predict(xTest)"
   ]
  },
  {
   "cell_type": "code",
   "execution_count": 87,
   "metadata": {
    "scrolled": true
   },
   "outputs": [
    {
     "name": "stdout",
     "output_type": "stream",
     "text": [
      "Confusion matrix: \n",
      "[[25616  8435]\n",
      " [ 3358   966]]\n",
      "Classification report: \n",
      "              precision    recall  f1-score   support\n",
      "\n",
      "        rain       0.88      0.75      0.81     34051\n",
      "        snow       0.10      0.22      0.14      4324\n",
      "\n",
      "    accuracy                           0.69     38375\n",
      "   macro avg       0.49      0.49      0.48     38375\n",
      "weighted avg       0.80      0.69      0.74     38375\n",
      "\n",
      "Accuracy: 0.8252508143322476\n"
     ]
    }
   ],
   "source": [
    "#Printing some statistic like Confusion Matrix and a Classification Report\n",
    "print(\"Confusion matrix: \")\n",
    "print(confusion_matrix(yTest,yWeatherPredicted))\n",
    "print(\"Classification report: \")\n",
    "print(classification_report(yTest,yWeatherPredicted))\n",
    "print(f\"Accuracy: {weatherClassifier.score(xTestScaled,yTest)}\")"
   ]
  },
  {
   "cell_type": "markdown",
   "metadata": {},
   "source": [
    "Looking the confusion matrix we can see that we have an high prediction about  **rain** category. Instead **snow** category is non predicted so good cause we haven't got enough samples"
   ]
  },
  {
   "cell_type": "markdown",
   "metadata": {},
   "source": [
    "Now, we want to see another statistic: the **ROC** curve. An ROC curve (receiver operating characteristic curve) is a graph showing the performance of a classification model at all classification thresholds. This curve plots two parameters:\n",
    "\n",
    "    True Positive Rate\n",
    "    False Positive Rate\n",
    "But before, via **LabelEncoder** we have to trasform the categoric variable(Precip Type) into discrete values."
   ]
  },
  {
   "cell_type": "code",
   "execution_count": 88,
   "metadata": {},
   "outputs": [
    {
     "data": {
      "text/plain": [
       "array([0, 0, 0, ..., 1, 0, 0])"
      ]
     },
     "execution_count": 88,
     "metadata": {},
     "output_type": "execute_result"
    }
   ],
   "source": [
    "le = LabelEncoder()\n",
    "yTestDiscreteValues = le.fit_transform(yTest)\n",
    "yTestDiscreteValues"
   ]
  },
  {
   "cell_type": "markdown",
   "metadata": {},
   "source": [
    "After the conversion done above, the variabile becomes binary with the following meanings:\n",
    "- 0 stands for **rain**\n",
    "- 1 stands for **snow**\n",
    "\n",
    "Referring to **ROC curve** it is alsto interesting look the **AUC**.\n",
    "Instead, **AUC** stands for \"Area under the ROC Curve.\" That is, AUC measures the entire two-dimensional area underneath the entire ROC curve (think integral calculus) from (0,0) to (1,1)."
   ]
  },
  {
   "cell_type": "code",
   "execution_count": 89,
   "metadata": {},
   "outputs": [],
   "source": [
    "#Compute ROC and AUC\n",
    "probs =  weatherClassifier.predict_proba(xTest)\n",
    "preeds = probs[:,1]\n",
    "fpr,tpr,threshold = roc_curve(yTestDiscreteValues,preeds)\n",
    "\n",
    "rocAuc = auc(fpr,tpr)"
   ]
  },
  {
   "cell_type": "code",
   "execution_count": 94,
   "metadata": {},
   "outputs": [
    {
     "data": {
      "image/png": "[encoded data removed]",
      "text/plain": [
       "<Figure size 432x288 with 1 Axes>"
      ]
     },
     "metadata": {
      "needs_background": "light"
     },
     "output_type": "display_data"
    }
   ],
   "source": [
    "#Plot ROC curve\n",
    "plt.title('Receiver Operating Characteristic with K =3')\n",
    "plt.plot(fpr, tpr, 'b', label = 'AUC = %0.2f' % rocAuc)\n",
    "plt.legend(loc = 'lower right')\n",
    "plt.plot([0, 1], [0, 1],'r--')\n",
    "plt.xlim([0, 1])\n",
    "plt.ylim([0, 1])\n",
    "plt.ylabel('True Positive Rate')\n",
    "plt.xlabel('False Positive Rate')\n",
    "plt.show()"
   ]
  },
  {
   "cell_type": "markdown",
   "metadata": {},
   "source": [
    "Now we try to predict  the best case, unless  if there would be another one. We start computing the classifier error for each K until 34"
   ]
  },
  {
   "cell_type": "code",
   "execution_count": 91,
   "metadata": {},
   "outputs": [],
   "source": [
    "#CELL A BIT SLOW TO RUN\n",
    "errorsClassifiers = list()\n",
    "for i in range (1,35):\n",
    "    weatherClassifier =  KNeighborsClassifier(n_neighbors=i)\n",
    "    weatherClassifier.fit(xTrainScaled,yTrain)\n",
    "    yPredict = weatherClassifier.predict(xTest)\n",
    "    errorsClassifiers.append(np.mean(yTest != yPredict))"
   ]
  },
  {
   "cell_type": "code",
   "execution_count": 92,
   "metadata": {},
   "outputs": [
    {
     "data": {
      "text/plain": [
       "Text(0, 0.5, 'K mean error')"
      ]
     },
     "execution_count": 92,
     "metadata": {},
     "output_type": "execute_result"
    },
    {
     "data": {
      "image/png": "[encoded data removed]",
      "text/plain": [
       "<Figure size 1008x432 with 1 Axes>"
      ]
     },
     "metadata": {
      "needs_background": "light"
     },
     "output_type": "display_data"
    }
   ],
   "source": [
    "#Plot error classifier  for each K\n",
    "plt.figure(figsize =(14,6))\n",
    "plt.plot(range(1,35), errorsClassifiers, color = \"green\", linestyle=\"dashed\", marker=\"o\", \n",
    "         markerfacecolor='blue', markersize=9)\n",
    "plt.title(\"Error Rate K Value\")\n",
    "plt.xlabel(\"K value\")\n",
    "plt.ylabel(\"K mean error\")"
   ]
  },
  {
   "cell_type": "markdown",
   "metadata": {},
   "source": [
    "Observing the chart we can figure out that the best *K* is 12, but anyway it is not a good classifier. So, now we want trying improve our classificator using SVM."
   ]
  },
  {
   "cell_type": "markdown",
   "metadata": {},
   "source": [
    "## Predicting Weather type basing on Humidity - SVM"
   ]
  },
  {
   "cell_type": "markdown",
   "metadata": {},
   "source": [
    "At last, we want to improve the analyse done before using **SVM** (support vector machine). They are supervised learning models with associated learning algorithms that analyze data for classification and regression analysis. \n",
    "\n",
    "Before, we define a functio that compute the bet iperparamteres using **GridSearchCV**. To make a comparison we want to use two different kernels:\n",
    "- Linear\n",
    "- RBF"
   ]
  },
  {
   "cell_type": "code",
   "execution_count": 95,
   "metadata": {},
   "outputs": [],
   "source": [
    "def compute_SVM(classfier,params,n_folds,Xs,Ys):\n",
    "    gscv = GridSearchCV(classfier,params,cv = n_folds)\n",
    "    gscv.fit(Xs,Ys)\n",
    "    print(\"Params combination: \\n\",gscv.cv_results_['params'])\n",
    "    print('Avg accuracy per combination:\\n', gscv.cv_results_['mean_test_score'])\n",
    "    print('Best combination:\\n', gscv.best_params_)\n",
    "    print('Avg accuracy of best combination: {}'.format(gscv.best_score_))\n",
    "    return gscv"
   ]
  },
  {
   "cell_type": "code",
   "execution_count": 96,
   "metadata": {},
   "outputs": [],
   "source": [
    "#Prepare SVC's \n",
    "n_folds = 3\n",
    "clsLinear = SVC()\n",
    "clsRBF = SVC()\n",
    "\n",
    "paramGridLinearSVC = [{'kernel': ['linear'], 'C': [1, 5, 10]}]\n",
    "paramGridRBFSVC =  [{'kernel': ['rbf'], 'C': [1, 5, 10], 'gamma': [0.1, 0.01]}]"
   ]
  },
  {
   "cell_type": "code",
   "execution_count": 97,
   "metadata": {},
   "outputs": [
    {
     "name": "stdout",
     "output_type": "stream",
     "text": [
      "Params combination: \n",
      " [{'C': 1, 'kernel': 'linear'}, {'C': 5, 'kernel': 'linear'}, {'C': 10, 'kernel': 'linear'}]\n",
      "Avg accuracy per combination:\n",
      " [0.88902208 0.88902208 0.88902208]\n",
      "Best combination:\n",
      " {'C': 1, 'kernel': 'linear'}\n",
      "Avg accuracy of best combination: 0.889022080922847\n"
     ]
    }
   ],
   "source": [
    "#CELL A BIT SLOW TO RUN\n",
    "gscvLinear = compute_SVM(clsLinear,paramGridLinearSVC,n_folds,xTrain,yTrain)"
   ]
  },
  {
   "cell_type": "code",
   "execution_count": 98,
   "metadata": {},
   "outputs": [
    {
     "name": "stdout",
     "output_type": "stream",
     "text": [
      "Params combination: \n",
      " [{'C': 1, 'gamma': 0.1, 'kernel': 'rbf'}, {'C': 1, 'gamma': 0.01, 'kernel': 'rbf'}, {'C': 5, 'gamma': 0.1, 'kernel': 'rbf'}, {'C': 5, 'gamma': 0.01, 'kernel': 'rbf'}, {'C': 10, 'gamma': 0.1, 'kernel': 'rbf'}, {'C': 10, 'gamma': 0.01, 'kernel': 'rbf'}]\n",
      "Avg accuracy per combination:\n",
      " [0.88902208 0.88902208 0.88902208 0.88902208 0.88902208 0.88902208]\n",
      "Best combination:\n",
      " {'C': 1, 'gamma': 0.1, 'kernel': 'rbf'}\n",
      "Avg accuracy of best combination: 0.889022080922847\n"
     ]
    }
   ],
   "source": [
    "#CELL A BIT SLOW TO RUN \n",
    "gscvRBF = compute_SVM(clsRBF,paramGridRBFSVC,n_folds,xTrain,yTrain)"
   ]
  },
  {
   "cell_type": "markdown",
   "metadata": {},
   "source": [
    "In conclusion, we can say that using **SVM** we are able to increase the accuracy of our regressor of 89%, instead 82% (value obtained with KNeighbors), but obvsiously accuracy is not a reliable statistic in the best case because it's much better to consider how many values of a determined class will be predicted correctly."
   ]
  }
 ],
 "metadata": {
  "kernelspec": {
   "display_name": "Python 3",
   "language": "python",
   "name": "python3"
  },
  "language_info": {
   "codemirror_mode": {
    "name": "ipython",
    "version": 3
   },
   "file_extension": ".py",
   "mimetype": "text/x-python",
   "name": "python",
   "nbconvert_exporter": "python",
   "pygments_lexer": "ipython3",
   "version": "3.8.5"
  }
 },
 "nbformat": 4,
 "nbformat_minor": 4
}
